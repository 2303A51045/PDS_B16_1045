{
  "nbformat": 4,
  "nbformat_minor": 0,
  "metadata": {
    "colab": {
      "provenance": [],
      "authorship_tag": "ABX9TyPwmyC+1OoJrz5g9sVMG4Ha",
      "include_colab_link": true
    },
    "kernelspec": {
      "name": "python3",
      "display_name": "Python 3"
    },
    "language_info": {
      "name": "python"
    }
  },
  "cells": [
    {
      "cell_type": "markdown",
      "metadata": {
        "id": "view-in-github",
        "colab_type": "text"
      },
      "source": [
        "<a href=\"https://colab.research.google.com/github/2303A51045/PDS_B16_1045/blob/main/Lab_3_B16_1045.ipynb\" target=\"_parent\"><img src=\"https://colab.research.google.com/assets/colab-badge.svg\" alt=\"Open In Colab\"/></a>"
      ]
    },
    {
      "cell_type": "code",
      "execution_count": 1,
      "metadata": {
        "colab": {
          "base_uri": "https://localhost:8080/"
        },
        "id": "eQkDTtEjul4y",
        "outputId": "844478af-f0bf-4598-938b-563f0f9b120e"
      },
      "outputs": [
        {
          "output_type": "stream",
          "name": "stdout",
          "text": [
            "Matrix A:\n",
            " [[4 6 8]\n",
            " [3 1 2]\n",
            " [5 6 4]]\n",
            "Matrix B:\n",
            " [[4 3 7]\n",
            " [9 9 4]\n",
            " [5 8 4]]\n",
            "\n",
            "Matrix Addition:\n",
            " [[ 8  9 15]\n",
            " [12 10  6]\n",
            " [10 14  8]]\n",
            "\n",
            "Matrix Subtraction:\n",
            " [[ 0  3  1]\n",
            " [-6 -8 -2]\n",
            " [ 0 -2  0]]\n",
            "\n",
            "Manual Check (A[0,0] + B[0,0]): 8\n",
            "Manual Check (A[0,0] - B[0,0]): 0\n"
          ]
        }
      ],
      "source": [
        "import numpy as np\n",
        "\n",
        "A = np.random.randint(1, 10, (3, 3))\n",
        "B = np.random.randint(1, 10, (3, 3))\n",
        "\n",
        "print(\"Matrix A:\\n\", A)\n",
        "print(\"Matrix B:\\n\", B)\n",
        "\n",
        "add_result = np.add(A, B)\n",
        "sub_result = np.subtract(A, B)\n",
        "\n",
        "print(\"\\nMatrix Addition:\\n\", add_result)\n",
        "print(\"\\nMatrix Subtraction:\\n\", sub_result)\n",
        "\n",
        "print(\"\\nManual Check (A[0,0] + B[0,0]):\", A[0,0] + B[0,0])\n",
        "print(\"Manual Check (A[0,0] - B[0,0]):\", A[0,0] - B[0,0])\n"
      ]
    },
    {
      "cell_type": "code",
      "source": [
        "import numpy as np\n",
        "\n",
        "X = np.random.randint(1, 10, (3, 2))\n",
        "Y = np.random.randint(1, 10, (2, 3))\n",
        "\n",
        "print(\"Matrix X (3x2):\\n\", X)\n",
        "print(\"Matrix Y (2x3):\\n\", Y)\n",
        "\n",
        "dot_result = np.dot(X, Y)\n",
        "\n",
        "print(\"\\nDot Product Result (3x3):\\n\", dot_result)\n",
        "\n",
        "print(\"\\nManual Check (X[0] dot Y[:,0]):\", np.dot(X[0], Y[:,0]))\n"
      ],
      "metadata": {
        "colab": {
          "base_uri": "https://localhost:8080/"
        },
        "id": "k4ZSCd14u1DI",
        "outputId": "60dbce40-7787-4f38-cf35-5f453b2fed64"
      },
      "execution_count": 2,
      "outputs": [
        {
          "output_type": "stream",
          "name": "stdout",
          "text": [
            "Matrix X (3x2):\n",
            " [[8 7]\n",
            " [3 8]\n",
            " [6 4]]\n",
            "Matrix Y (2x3):\n",
            " [[5 5 3]\n",
            " [6 1 9]]\n",
            "\n",
            "Dot Product Result (3x3):\n",
            " [[82 47 87]\n",
            " [63 23 81]\n",
            " [54 34 54]]\n",
            "\n",
            "Manual Check (X[0] dot Y[:,0]): 82\n"
          ]
        }
      ]
    }
  ]
}