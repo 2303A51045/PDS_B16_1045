{
  "nbformat": 4,
  "nbformat_minor": 0,
  "metadata": {
    "colab": {
      "provenance": [],
      "authorship_tag": "ABX9TyPyGWIB/6VMWKQBWFqLBH5j",
      "include_colab_link": true
    },
    "kernelspec": {
      "name": "python3",
      "display_name": "Python 3"
    },
    "language_info": {
      "name": "python"
    }
  },
  "cells": [
    {
      "cell_type": "markdown",
      "metadata": {
        "id": "view-in-github",
        "colab_type": "text"
      },
      "source": [
        "<a href=\"https://colab.research.google.com/github/2303A51045/PDS_B16_1045/blob/main/Lab_1_B16_1045.ipynb\" target=\"_parent\"><img src=\"https://colab.research.google.com/assets/colab-badge.svg\" alt=\"Open In Colab\"/></a>"
      ]
    },
    {
      "cell_type": "code",
      "execution_count": 9,
      "metadata": {
        "id": "FlIQV08gjeco"
      },
      "outputs": [],
      "source": [
        "def factorial_recursive(n):\n",
        "    if not isinstance(n, int) or n < 0:\n",
        "        raise ValueError(\"Input must be a non-negative integer\")\n",
        "    print(f\"factorial_recursive({n}) called\")\n",
        "    if n == 0 or n == 1:\n",
        "        print(\"Returning 1 (base case)\")\n",
        "        return 1\n",
        "    result = n * factorial_recursive(n - 1)\n",
        "    print(f\"Returning {result}\")\n",
        "    return result"
      ]
    },
    {
      "cell_type": "code",
      "source": [
        "def factorial_iterative(n):\n",
        "    if not isinstance(n, int) or n < 0:\n",
        "        raise ValueError(\"Input must be a non-negative integer\")\n",
        "    result = 1\n",
        "    for i in range(2, n + 1):\n",
        "        result *= i\n",
        "    return result"
      ],
      "metadata": {
        "id": "lX1AaUSjpG4w"
      },
      "execution_count": 10,
      "outputs": []
    },
    {
      "cell_type": "code",
      "source": [
        "def factorial_tail_recursive(n, acc=1):\n",
        "    print(f\"factorial_tail_recursive({n}, acc={acc}) called\")\n",
        "    if not isinstance(n, int) or n < 0:\n",
        "        raise ValueError(\"Input must be a non-negative integer\")\n",
        "    if n == 0 or n == 1:\n",
        "        print(f\"Returning {acc}\")\n",
        "        return acc\n",
        "    return factorial_tail_recursive(n - 1, acc * n)"
      ],
      "metadata": {
        "id": "PHK7N65mrgaN"
      },
      "execution_count": 11,
      "outputs": []
    },
    {
      "cell_type": "code",
      "source": [
        "num = 5\n",
        "print(\"Recursive:\", factorial_recursive(num))\n",
        "print(\"Iterative:\", factorial_iterative(num))\n",
        "print(\"Tail Recursive:\", factorial_tail_recursive(num))\n"
      ],
      "metadata": {
        "colab": {
          "base_uri": "https://localhost:8080/"
        },
        "id": "4FLw9Usxrgdn",
        "outputId": "81ce04f0-268b-4a51-f2f3-f27a1eed4e86"
      },
      "execution_count": 12,
      "outputs": [
        {
          "output_type": "stream",
          "name": "stdout",
          "text": [
            "factorial_recursive(5) called\n",
            "factorial_recursive(4) called\n",
            "factorial_recursive(3) called\n",
            "factorial_recursive(2) called\n",
            "factorial_recursive(1) called\n",
            "Returning 1 (base case)\n",
            "Returning 2\n",
            "Returning 6\n",
            "Returning 24\n",
            "Returning 120\n",
            "Recursive: 120\n",
            "Iterative: 120\n",
            "factorial_tail_recursive(5, acc=1) called\n",
            "factorial_tail_recursive(4, acc=5) called\n",
            "factorial_tail_recursive(3, acc=20) called\n",
            "factorial_tail_recursive(2, acc=60) called\n",
            "factorial_tail_recursive(1, acc=120) called\n",
            "Returning 120\n",
            "Tail Recursive: 120\n"
          ]
        }
      ]
    },
    {
      "cell_type": "code",
      "source": [
        "def factorial_recursive(n):\n",
        "    if not isinstance(n, int) or n < 0:\n",
        "        raise ValueError(\"Input must be a non-negative integer\")\n",
        "    if n == 0 or n == 1:\n",
        "        return 1\n",
        "    return n * factorial_recursive(n - 1)"
      ],
      "metadata": {
        "id": "EadV6vIJsNTu"
      },
      "execution_count": 13,
      "outputs": []
    },
    {
      "cell_type": "code",
      "source": [
        "def nCr(n, r):\n",
        "    if not isinstance(n, int) or not isinstance(r, int) or n < 0 or r < 0 or n < r:\n",
        "        raise ValueError(\"Invalid input: ensure n ≥ r ≥ 0\")\n",
        "    print(f\"Calculating nCr({n},{r})\")\n",
        "    fn = factorial_recursive(n)\n",
        "    fr = factorial_recursive(r)\n",
        "    fnr = factorial_recursive(n - r)\n",
        "    print(f\"{n}! = {fn}, {r}! = {fr}, (n-r)! = {fnr}\")\n",
        "    return fn // (fr * fnr)"
      ],
      "metadata": {
        "id": "XVuJ2Zx1sRRS"
      },
      "execution_count": 14,
      "outputs": []
    },
    {
      "cell_type": "code",
      "source": [
        "import math\n",
        "print(\"nCr using recursion:\", nCr(5, 2))\n",
        "print(\"nCr using math.comb:\", math.comb(5, 2))"
      ],
      "metadata": {
        "colab": {
          "base_uri": "https://localhost:8080/"
        },
        "id": "lo6khEpdsRYu",
        "outputId": "a30ae877-6f80-4be4-df60-e5feebfe4579"
      },
      "execution_count": 15,
      "outputs": [
        {
          "output_type": "stream",
          "name": "stdout",
          "text": [
            "Calculating nCr(5,2)\n",
            "5! = 120, 2! = 2, (n-r)! = 6\n",
            "nCr using recursion: 10\n",
            "nCr using math.comb: 10\n"
          ]
        }
      ]
    }
  ]
}